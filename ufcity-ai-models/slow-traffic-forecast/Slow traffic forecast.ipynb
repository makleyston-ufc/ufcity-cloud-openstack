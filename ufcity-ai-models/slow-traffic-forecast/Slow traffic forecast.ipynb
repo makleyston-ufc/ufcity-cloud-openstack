{
 "cells": [
  {
   "cell_type": "markdown",
   "metadata": {
    "id": "7pW14p9fpWR9"
   },
   "source": [
    "# Slow traffic forecast"
   ]
  },
  {
   "cell_type": "markdown",
   "metadata": {
    "id": "gvLEdXGopfhA"
   },
   "source": [
    "This model uses the database [Urban traffic density in cities](https://www.kaggle.com/datasets/tanishqdublish/urban-traffic-density-in-cities?resource=download) to predict the average traffic speed in the city.\n",
    "\n",
    "This notebook explores RandomForestRegressor, a regression algorithm that uses a collection of decision trees. As we will see later, the choice of this algorithm was motivated by the nature of the data and the low relationship between the features analyzed."
   ]
  },
  {
   "cell_type": "code",
   "execution_count": 1,
   "metadata": {
    "executionInfo": {
     "elapsed": 3345,
     "status": "ok",
     "timestamp": 1710074642599,
     "user": {
      "displayName": "Danne Makleyston",
      "userId": "15569214669254479952"
     },
     "user_tz": 180
    },
    "id": "-V2pnztFpZ_g"
   },
   "outputs": [],
   "source": [
    "import pandas as pd\n",
    "import matplotlib.pyplot as plt\n",
    "import seaborn as sns\n",
    "\n",
    "df = pd.read_csv('../datasets/futuristic_city_traffic/futuristic_city_traffic.csv')"
   ]
  },
  {
   "cell_type": "code",
   "execution_count": 2,
   "metadata": {
    "colab": {
     "base_uri": "https://localhost:8080/",
     "height": 206
    },
    "executionInfo": {
     "elapsed": 575,
     "status": "ok",
     "timestamp": 1710074649721,
     "user": {
      "displayName": "Danne Makleyston",
      "userId": "15569214669254479952"
     },
     "user_tz": 180
    },
    "id": "260vtkgGw0xu",
    "outputId": "711e0e98-228c-4172-be9d-e25a4c07bfe3"
   },
   "outputs": [
    {
     "data": {
      "text/html": [
       "<div>\n",
       "<style scoped>\n",
       "    .dataframe tbody tr th:only-of-type {\n",
       "        vertical-align: middle;\n",
       "    }\n",
       "\n",
       "    .dataframe tbody tr th {\n",
       "        vertical-align: top;\n",
       "    }\n",
       "\n",
       "    .dataframe thead th {\n",
       "        text-align: right;\n",
       "    }\n",
       "</style>\n",
       "<table border=\"1\" class=\"dataframe\">\n",
       "  <thead>\n",
       "    <tr style=\"text-align: right;\">\n",
       "      <th></th>\n",
       "      <th>City</th>\n",
       "      <th>Vehicle Type</th>\n",
       "      <th>Weather</th>\n",
       "      <th>Economic Condition</th>\n",
       "      <th>Day Of Week</th>\n",
       "      <th>Hour Of Day</th>\n",
       "      <th>Speed</th>\n",
       "      <th>Is Peak Hour</th>\n",
       "      <th>Random Event Occurred</th>\n",
       "      <th>Energy Consumption</th>\n",
       "      <th>Traffic Density</th>\n",
       "    </tr>\n",
       "  </thead>\n",
       "  <tbody>\n",
       "    <tr>\n",
       "      <th>0</th>\n",
       "      <td>SolarisVille</td>\n",
       "      <td>Drone</td>\n",
       "      <td>Snowy</td>\n",
       "      <td>Stable</td>\n",
       "      <td>Sunday</td>\n",
       "      <td>20</td>\n",
       "      <td>29.4268</td>\n",
       "      <td>0</td>\n",
       "      <td>0</td>\n",
       "      <td>14.7134</td>\n",
       "      <td>0.5241</td>\n",
       "    </tr>\n",
       "    <tr>\n",
       "      <th>1</th>\n",
       "      <td>AquaCity</td>\n",
       "      <td>Flying Car</td>\n",
       "      <td>Solar Flare</td>\n",
       "      <td>Recession</td>\n",
       "      <td>Wednesday</td>\n",
       "      <td>2</td>\n",
       "      <td>118.8000</td>\n",
       "      <td>0</td>\n",
       "      <td>0</td>\n",
       "      <td>143.5682</td>\n",
       "      <td>0.3208</td>\n",
       "    </tr>\n",
       "    <tr>\n",
       "      <th>2</th>\n",
       "      <td>Neuroburg</td>\n",
       "      <td>Autonomous Vehicle</td>\n",
       "      <td>Solar Flare</td>\n",
       "      <td>Recession</td>\n",
       "      <td>Wednesday</td>\n",
       "      <td>16</td>\n",
       "      <td>100.3904</td>\n",
       "      <td>0</td>\n",
       "      <td>0</td>\n",
       "      <td>91.2640</td>\n",
       "      <td>0.0415</td>\n",
       "    </tr>\n",
       "    <tr>\n",
       "      <th>3</th>\n",
       "      <td>Ecoopolis</td>\n",
       "      <td>Drone</td>\n",
       "      <td>Clear</td>\n",
       "      <td>Booming</td>\n",
       "      <td>Thursday</td>\n",
       "      <td>8</td>\n",
       "      <td>76.8000</td>\n",
       "      <td>1</td>\n",
       "      <td>0</td>\n",
       "      <td>46.0753</td>\n",
       "      <td>0.1811</td>\n",
       "    </tr>\n",
       "    <tr>\n",
       "      <th>4</th>\n",
       "      <td>AquaCity</td>\n",
       "      <td>Autonomous Vehicle</td>\n",
       "      <td>Solar Flare</td>\n",
       "      <td>Stable</td>\n",
       "      <td>Saturday</td>\n",
       "      <td>16</td>\n",
       "      <td>45.2176</td>\n",
       "      <td>0</td>\n",
       "      <td>0</td>\n",
       "      <td>40.1934</td>\n",
       "      <td>0.4544</td>\n",
       "    </tr>\n",
       "  </tbody>\n",
       "</table>\n",
       "</div>"
      ],
      "text/plain": [
       "           City        Vehicle Type      Weather Economic Condition  \\\n",
       "0  SolarisVille               Drone        Snowy             Stable   \n",
       "1      AquaCity          Flying Car  Solar Flare          Recession   \n",
       "2     Neuroburg  Autonomous Vehicle  Solar Flare          Recession   \n",
       "3     Ecoopolis               Drone        Clear            Booming   \n",
       "4      AquaCity  Autonomous Vehicle  Solar Flare             Stable   \n",
       "\n",
       "  Day Of Week  Hour Of Day     Speed  Is Peak Hour  Random Event Occurred  \\\n",
       "0      Sunday           20   29.4268             0                      0   \n",
       "1   Wednesday            2  118.8000             0                      0   \n",
       "2   Wednesday           16  100.3904             0                      0   \n",
       "3    Thursday            8   76.8000             1                      0   \n",
       "4    Saturday           16   45.2176             0                      0   \n",
       "\n",
       "   Energy Consumption  Traffic Density  \n",
       "0             14.7134           0.5241  \n",
       "1            143.5682           0.3208  \n",
       "2             91.2640           0.0415  \n",
       "3             46.0753           0.1811  \n",
       "4             40.1934           0.4544  "
      ]
     },
     "execution_count": 2,
     "metadata": {},
     "output_type": "execute_result"
    }
   ],
   "source": [
    "df.head()"
   ]
  },
  {
   "cell_type": "code",
   "execution_count": 3,
   "metadata": {
    "colab": {
     "base_uri": "https://localhost:8080/"
    },
    "executionInfo": {
     "elapsed": 497,
     "status": "ok",
     "timestamp": 1710074652145,
     "user": {
      "displayName": "Danne Makleyston",
      "userId": "15569214669254479952"
     },
     "user_tz": 180
    },
    "id": "kRv4z0Km71HY",
    "outputId": "400c7a9c-af4e-4e62-e221-139b8fa43557"
   },
   "outputs": [
    {
     "data": {
      "text/plain": [
       "array(['SolarisVille', 'AquaCity', 'Neuroburg', 'Ecoopolis', 'TechHaven',\n",
       "       'MetropolisX'], dtype=object)"
      ]
     },
     "execution_count": 3,
     "metadata": {},
     "output_type": "execute_result"
    }
   ],
   "source": [
    "df['City'].unique()"
   ]
  },
  {
   "cell_type": "code",
   "execution_count": 4,
   "metadata": {
    "colab": {
     "base_uri": "https://localhost:8080/"
    },
    "executionInfo": {
     "elapsed": 10,
     "status": "ok",
     "timestamp": 1710074653481,
     "user": {
      "displayName": "Danne Makleyston",
      "userId": "15569214669254479952"
     },
     "user_tz": 180
    },
    "id": "KJeknwng78jC",
    "outputId": "4fbd6194-d96b-4834-d241-68280f7e8558"
   },
   "outputs": [
    {
     "data": {
      "text/plain": [
       "array(['Drone', 'Flying Car', 'Autonomous Vehicle', 'Car'], dtype=object)"
      ]
     },
     "execution_count": 4,
     "metadata": {},
     "output_type": "execute_result"
    }
   ],
   "source": [
    "df['Vehicle Type'].unique()"
   ]
  },
  {
   "cell_type": "markdown",
   "metadata": {
    "id": "NvzinJ_V7Q-I"
   },
   "source": [
    "Ranking of the cities with most cars."
   ]
  },
  {
   "cell_type": "code",
   "execution_count": 5,
   "metadata": {
    "colab": {
     "base_uri": "https://localhost:8080/"
    },
    "executionInfo": {
     "elapsed": 402,
     "status": "ok",
     "timestamp": 1710074655750,
     "user": {
      "displayName": "Danne Makleyston",
      "userId": "15569214669254479952"
     },
     "user_tz": 180
    },
    "id": "naEvH0kZ7KRr",
    "outputId": "5de481d1-e976-4620-8e65-9b841e74de28"
   },
   "outputs": [
    {
     "data": {
      "text/plain": [
       "AquaCity        25439\n",
       "SolarisVille    20183\n",
       "Ecoopolis       15275\n",
       "MetropolisX      9959\n",
       "TechHaven        4982\n",
       "Neuroburg        2460\n",
       "Name: City, dtype: int64"
      ]
     },
     "execution_count": 5,
     "metadata": {},
     "output_type": "execute_result"
    }
   ],
   "source": [
    "df[df['Vehicle Type'] == 'Car']['City'].value_counts().sort_values(ascending=False)"
   ]
  },
  {
   "cell_type": "code",
   "execution_count": 6,
   "metadata": {
    "colab": {
     "base_uri": "https://localhost:8080/",
     "height": 424
    },
    "executionInfo": {
     "elapsed": 9,
     "status": "ok",
     "timestamp": 1710074656808,
     "user": {
      "displayName": "Danne Makleyston",
      "userId": "15569214669254479952"
     },
     "user_tz": 180
    },
    "id": "AfUBW2cHwm0_",
    "outputId": "6f59d643-6767-4bcd-c2bc-97b089ed3892"
   },
   "outputs": [
    {
     "data": {
      "text/html": [
       "<div>\n",
       "<style scoped>\n",
       "    .dataframe tbody tr th:only-of-type {\n",
       "        vertical-align: middle;\n",
       "    }\n",
       "\n",
       "    .dataframe tbody tr th {\n",
       "        vertical-align: top;\n",
       "    }\n",
       "\n",
       "    .dataframe thead th {\n",
       "        text-align: right;\n",
       "    }\n",
       "</style>\n",
       "<table border=\"1\" class=\"dataframe\">\n",
       "  <thead>\n",
       "    <tr style=\"text-align: right;\">\n",
       "      <th></th>\n",
       "      <th>City</th>\n",
       "      <th>Vehicle Type</th>\n",
       "      <th>Weather</th>\n",
       "      <th>Economic Condition</th>\n",
       "      <th>Day Of Week</th>\n",
       "      <th>Hour Of Day</th>\n",
       "      <th>Speed</th>\n",
       "      <th>Is Peak Hour</th>\n",
       "      <th>Random Event Occurred</th>\n",
       "      <th>Energy Consumption</th>\n",
       "      <th>Traffic Density</th>\n",
       "    </tr>\n",
       "  </thead>\n",
       "  <tbody>\n",
       "    <tr>\n",
       "      <th>178</th>\n",
       "      <td>AquaCity</td>\n",
       "      <td>Car</td>\n",
       "      <td>Solar Flare</td>\n",
       "      <td>Recession</td>\n",
       "      <td>Thursday</td>\n",
       "      <td>23</td>\n",
       "      <td>65.3388</td>\n",
       "      <td>0</td>\n",
       "      <td>0</td>\n",
       "      <td>65.3388</td>\n",
       "      <td>0.2861</td>\n",
       "    </tr>\n",
       "    <tr>\n",
       "      <th>222</th>\n",
       "      <td>AquaCity</td>\n",
       "      <td>Car</td>\n",
       "      <td>Electromagnetic Storm</td>\n",
       "      <td>Stable</td>\n",
       "      <td>Sunday</td>\n",
       "      <td>13</td>\n",
       "      <td>86.4000</td>\n",
       "      <td>1</td>\n",
       "      <td>0</td>\n",
       "      <td>102.1339</td>\n",
       "      <td>1.0539</td>\n",
       "    </tr>\n",
       "    <tr>\n",
       "      <th>354</th>\n",
       "      <td>AquaCity</td>\n",
       "      <td>Car</td>\n",
       "      <td>Electromagnetic Storm</td>\n",
       "      <td>Booming</td>\n",
       "      <td>Saturday</td>\n",
       "      <td>12</td>\n",
       "      <td>26.7635</td>\n",
       "      <td>1</td>\n",
       "      <td>0</td>\n",
       "      <td>26.7635</td>\n",
       "      <td>0.7987</td>\n",
       "    </tr>\n",
       "    <tr>\n",
       "      <th>378</th>\n",
       "      <td>AquaCity</td>\n",
       "      <td>Car</td>\n",
       "      <td>Electromagnetic Storm</td>\n",
       "      <td>Booming</td>\n",
       "      <td>Sunday</td>\n",
       "      <td>16</td>\n",
       "      <td>62.0059</td>\n",
       "      <td>0</td>\n",
       "      <td>0</td>\n",
       "      <td>62.0059</td>\n",
       "      <td>0.9777</td>\n",
       "    </tr>\n",
       "    <tr>\n",
       "      <th>385</th>\n",
       "      <td>AquaCity</td>\n",
       "      <td>Car</td>\n",
       "      <td>Rainy</td>\n",
       "      <td>Booming</td>\n",
       "      <td>Saturday</td>\n",
       "      <td>14</td>\n",
       "      <td>23.1494</td>\n",
       "      <td>1</td>\n",
       "      <td>1</td>\n",
       "      <td>23.1494</td>\n",
       "      <td>0.5094</td>\n",
       "    </tr>\n",
       "    <tr>\n",
       "      <th>...</th>\n",
       "      <td>...</td>\n",
       "      <td>...</td>\n",
       "      <td>...</td>\n",
       "      <td>...</td>\n",
       "      <td>...</td>\n",
       "      <td>...</td>\n",
       "      <td>...</td>\n",
       "      <td>...</td>\n",
       "      <td>...</td>\n",
       "      <td>...</td>\n",
       "      <td>...</td>\n",
       "    </tr>\n",
       "    <tr>\n",
       "      <th>1219363</th>\n",
       "      <td>AquaCity</td>\n",
       "      <td>Car</td>\n",
       "      <td>Snowy</td>\n",
       "      <td>Booming</td>\n",
       "      <td>Wednesday</td>\n",
       "      <td>0</td>\n",
       "      <td>60.2543</td>\n",
       "      <td>0</td>\n",
       "      <td>0</td>\n",
       "      <td>60.2543</td>\n",
       "      <td>0.4992</td>\n",
       "    </tr>\n",
       "    <tr>\n",
       "      <th>1219392</th>\n",
       "      <td>AquaCity</td>\n",
       "      <td>Car</td>\n",
       "      <td>Snowy</td>\n",
       "      <td>Booming</td>\n",
       "      <td>Thursday</td>\n",
       "      <td>23</td>\n",
       "      <td>69.2789</td>\n",
       "      <td>0</td>\n",
       "      <td>0</td>\n",
       "      <td>69.2789</td>\n",
       "      <td>0.6848</td>\n",
       "    </tr>\n",
       "    <tr>\n",
       "      <th>1219399</th>\n",
       "      <td>AquaCity</td>\n",
       "      <td>Car</td>\n",
       "      <td>Clear</td>\n",
       "      <td>Booming</td>\n",
       "      <td>Sunday</td>\n",
       "      <td>8</td>\n",
       "      <td>42.2272</td>\n",
       "      <td>0</td>\n",
       "      <td>0</td>\n",
       "      <td>42.2272</td>\n",
       "      <td>1.4642</td>\n",
       "    </tr>\n",
       "    <tr>\n",
       "      <th>1219403</th>\n",
       "      <td>AquaCity</td>\n",
       "      <td>Car</td>\n",
       "      <td>Electromagnetic Storm</td>\n",
       "      <td>Stable</td>\n",
       "      <td>Wednesday</td>\n",
       "      <td>16</td>\n",
       "      <td>21.2711</td>\n",
       "      <td>0</td>\n",
       "      <td>0</td>\n",
       "      <td>21.2711</td>\n",
       "      <td>0.7462</td>\n",
       "    </tr>\n",
       "    <tr>\n",
       "      <th>1219425</th>\n",
       "      <td>AquaCity</td>\n",
       "      <td>Car</td>\n",
       "      <td>Electromagnetic Storm</td>\n",
       "      <td>Recession</td>\n",
       "      <td>Monday</td>\n",
       "      <td>3</td>\n",
       "      <td>93.5426</td>\n",
       "      <td>0</td>\n",
       "      <td>0</td>\n",
       "      <td>103.9362</td>\n",
       "      <td>0.1321</td>\n",
       "    </tr>\n",
       "  </tbody>\n",
       "</table>\n",
       "<p>25439 rows × 11 columns</p>\n",
       "</div>"
      ],
      "text/plain": [
       "             City Vehicle Type                Weather Economic Condition  \\\n",
       "178      AquaCity          Car            Solar Flare          Recession   \n",
       "222      AquaCity          Car  Electromagnetic Storm             Stable   \n",
       "354      AquaCity          Car  Electromagnetic Storm            Booming   \n",
       "378      AquaCity          Car  Electromagnetic Storm            Booming   \n",
       "385      AquaCity          Car                  Rainy            Booming   \n",
       "...           ...          ...                    ...                ...   \n",
       "1219363  AquaCity          Car                  Snowy            Booming   \n",
       "1219392  AquaCity          Car                  Snowy            Booming   \n",
       "1219399  AquaCity          Car                  Clear            Booming   \n",
       "1219403  AquaCity          Car  Electromagnetic Storm             Stable   \n",
       "1219425  AquaCity          Car  Electromagnetic Storm          Recession   \n",
       "\n",
       "        Day Of Week  Hour Of Day    Speed  Is Peak Hour  \\\n",
       "178        Thursday           23  65.3388             0   \n",
       "222          Sunday           13  86.4000             1   \n",
       "354        Saturday           12  26.7635             1   \n",
       "378          Sunday           16  62.0059             0   \n",
       "385        Saturday           14  23.1494             1   \n",
       "...             ...          ...      ...           ...   \n",
       "1219363   Wednesday            0  60.2543             0   \n",
       "1219392    Thursday           23  69.2789             0   \n",
       "1219399      Sunday            8  42.2272             0   \n",
       "1219403   Wednesday           16  21.2711             0   \n",
       "1219425      Monday            3  93.5426             0   \n",
       "\n",
       "         Random Event Occurred  Energy Consumption  Traffic Density  \n",
       "178                          0             65.3388           0.2861  \n",
       "222                          0            102.1339           1.0539  \n",
       "354                          0             26.7635           0.7987  \n",
       "378                          0             62.0059           0.9777  \n",
       "385                          1             23.1494           0.5094  \n",
       "...                        ...                 ...              ...  \n",
       "1219363                      0             60.2543           0.4992  \n",
       "1219392                      0             69.2789           0.6848  \n",
       "1219399                      0             42.2272           1.4642  \n",
       "1219403                      0             21.2711           0.7462  \n",
       "1219425                      0            103.9362           0.1321  \n",
       "\n",
       "[25439 rows x 11 columns]"
      ]
     },
     "execution_count": 6,
     "metadata": {},
     "output_type": "execute_result"
    }
   ],
   "source": [
    "df_car = df[(df['Vehicle Type'] == 'Car') & (df['City'] == 'AquaCity')]\n",
    "df_car"
   ]
  },
  {
   "cell_type": "code",
   "execution_count": 7,
   "metadata": {
    "colab": {
     "base_uri": "https://localhost:8080/"
    },
    "executionInfo": {
     "elapsed": 3,
     "status": "ok",
     "timestamp": 1710074658051,
     "user": {
      "displayName": "Danne Makleyston",
      "userId": "15569214669254479952"
     },
     "user_tz": 180
    },
    "id": "MuBuW-tmUgDq",
    "outputId": "0618e895-8446-4735-e0be-200bfa66accb"
   },
   "outputs": [
    {
     "data": {
      "text/plain": [
       "City                      object\n",
       "Vehicle Type              object\n",
       "Weather                   object\n",
       "Economic Condition        object\n",
       "Day Of Week               object\n",
       "Hour Of Day                int64\n",
       "Speed                    float64\n",
       "Is Peak Hour               int64\n",
       "Random Event Occurred      int64\n",
       "Energy Consumption       float64\n",
       "Traffic Density          float64\n",
       "dtype: object"
      ]
     },
     "execution_count": 7,
     "metadata": {},
     "output_type": "execute_result"
    }
   ],
   "source": [
    "df_car.dtypes"
   ]
  },
  {
   "cell_type": "code",
   "execution_count": 8,
   "metadata": {
    "colab": {
     "base_uri": "https://localhost:8080/"
    },
    "executionInfo": {
     "elapsed": 27,
     "status": "ok",
     "timestamp": 1710074659600,
     "user": {
      "displayName": "Danne Makleyston",
      "userId": "15569214669254479952"
     },
     "user_tz": 180
    },
    "id": "gFZaTK6KTyb8",
    "outputId": "2ad23ca6-570c-4112-ed13-e31d1b822c2c"
   },
   "outputs": [],
   "source": [
    "# Mapping the days of week to numbers\n",
    "day_of_week_mapping = {\n",
    "    'Monday': 1,\n",
    "    'Tuesday': 2,\n",
    "    'Wednesday': 3,\n",
    "    'Thursday': 4,\n",
    "    'Friday': 5,\n",
    "    'Saturday': 6,\n",
    "    'Sunday': 7\n",
    "}\n",
    "\n",
    "df_car_copy = df_car.copy()\n",
    "df_car_copy.loc[:, 'Day Of Week'] = df_car_copy['Day Of Week'].map(day_of_week_mapping)\n",
    "df_car = df_car_copy.copy()"
   ]
  },
  {
   "cell_type": "code",
   "execution_count": 9,
   "metadata": {
    "colab": {
     "base_uri": "https://localhost:8080/"
    },
    "executionInfo": {
     "elapsed": 450,
     "status": "ok",
     "timestamp": 1710074661991,
     "user": {
      "displayName": "Danne Makleyston",
      "userId": "15569214669254479952"
     },
     "user_tz": 180
    },
    "id": "b9egFcAPUGwG",
    "outputId": "e919c653-fb6c-4421-88af-795693d4c17c"
   },
   "outputs": [
    {
     "data": {
      "text/plain": [
       "array(['Solar Flare', 'Electromagnetic Storm', 'Rainy', 'Snowy', 'Clear'],\n",
       "      dtype=object)"
      ]
     },
     "execution_count": 9,
     "metadata": {},
     "output_type": "execute_result"
    }
   ],
   "source": [
    "df_car['Weather'].unique()"
   ]
  },
  {
   "cell_type": "code",
   "execution_count": 10,
   "metadata": {
    "colab": {
     "base_uri": "https://localhost:8080/"
    },
    "executionInfo": {
     "elapsed": 435,
     "status": "ok",
     "timestamp": 1710074666784,
     "user": {
      "displayName": "Danne Makleyston",
      "userId": "15569214669254479952"
     },
     "user_tz": 180
    },
    "id": "q-GcB1_PUODq",
    "outputId": "2d4802b7-47d0-47ef-ad8d-522e55ad5d48"
   },
   "outputs": [],
   "source": [
    "# Mapping the weathers to numbers\n",
    "weather_mapping = {\n",
    "    'Solar Flare': 1,\n",
    "    'Electromagnetic Storm': 2,\n",
    "    'Rainy': 3,\n",
    "    'Snowy': 4,\n",
    "    'Clear': 5\n",
    "}\n",
    "\n",
    "df_car.loc[:, 'Weather'] = df_car['Weather'].map(weather_mapping)"
   ]
  },
  {
   "cell_type": "code",
   "execution_count": 11,
   "metadata": {
    "colab": {
     "base_uri": "https://localhost:8080/",
     "height": 424
    },
    "executionInfo": {
     "elapsed": 10,
     "status": "ok",
     "timestamp": 1710074668052,
     "user": {
      "displayName": "Danne Makleyston",
      "userId": "15569214669254479952"
     },
     "user_tz": 180
    },
    "id": "NvxMfnxfzR6t",
    "outputId": "a141b2e8-7fc8-40cc-abeb-d63feda8a150"
   },
   "outputs": [
    {
     "data": {
      "text/html": [
       "<div>\n",
       "<style scoped>\n",
       "    .dataframe tbody tr th:only-of-type {\n",
       "        vertical-align: middle;\n",
       "    }\n",
       "\n",
       "    .dataframe tbody tr th {\n",
       "        vertical-align: top;\n",
       "    }\n",
       "\n",
       "    .dataframe thead th {\n",
       "        text-align: right;\n",
       "    }\n",
       "</style>\n",
       "<table border=\"1\" class=\"dataframe\">\n",
       "  <thead>\n",
       "    <tr style=\"text-align: right;\">\n",
       "      <th></th>\n",
       "      <th>Weather</th>\n",
       "      <th>Day Of Week</th>\n",
       "      <th>Hour Of Day</th>\n",
       "      <th>Speed</th>\n",
       "      <th>Is Peak Hour</th>\n",
       "      <th>Random Event Occurred</th>\n",
       "      <th>Traffic Density</th>\n",
       "    </tr>\n",
       "  </thead>\n",
       "  <tbody>\n",
       "    <tr>\n",
       "      <th>0</th>\n",
       "      <td>1</td>\n",
       "      <td>4</td>\n",
       "      <td>23</td>\n",
       "      <td>65.3388</td>\n",
       "      <td>0</td>\n",
       "      <td>0</td>\n",
       "      <td>0.2861</td>\n",
       "    </tr>\n",
       "    <tr>\n",
       "      <th>1</th>\n",
       "      <td>2</td>\n",
       "      <td>7</td>\n",
       "      <td>13</td>\n",
       "      <td>86.4000</td>\n",
       "      <td>1</td>\n",
       "      <td>0</td>\n",
       "      <td>1.0539</td>\n",
       "    </tr>\n",
       "    <tr>\n",
       "      <th>2</th>\n",
       "      <td>2</td>\n",
       "      <td>6</td>\n",
       "      <td>12</td>\n",
       "      <td>26.7635</td>\n",
       "      <td>1</td>\n",
       "      <td>0</td>\n",
       "      <td>0.7987</td>\n",
       "    </tr>\n",
       "    <tr>\n",
       "      <th>3</th>\n",
       "      <td>2</td>\n",
       "      <td>7</td>\n",
       "      <td>16</td>\n",
       "      <td>62.0059</td>\n",
       "      <td>0</td>\n",
       "      <td>0</td>\n",
       "      <td>0.9777</td>\n",
       "    </tr>\n",
       "    <tr>\n",
       "      <th>4</th>\n",
       "      <td>3</td>\n",
       "      <td>6</td>\n",
       "      <td>14</td>\n",
       "      <td>23.1494</td>\n",
       "      <td>1</td>\n",
       "      <td>1</td>\n",
       "      <td>0.5094</td>\n",
       "    </tr>\n",
       "    <tr>\n",
       "      <th>...</th>\n",
       "      <td>...</td>\n",
       "      <td>...</td>\n",
       "      <td>...</td>\n",
       "      <td>...</td>\n",
       "      <td>...</td>\n",
       "      <td>...</td>\n",
       "      <td>...</td>\n",
       "    </tr>\n",
       "    <tr>\n",
       "      <th>25434</th>\n",
       "      <td>4</td>\n",
       "      <td>3</td>\n",
       "      <td>0</td>\n",
       "      <td>60.2543</td>\n",
       "      <td>0</td>\n",
       "      <td>0</td>\n",
       "      <td>0.4992</td>\n",
       "    </tr>\n",
       "    <tr>\n",
       "      <th>25435</th>\n",
       "      <td>4</td>\n",
       "      <td>4</td>\n",
       "      <td>23</td>\n",
       "      <td>69.2789</td>\n",
       "      <td>0</td>\n",
       "      <td>0</td>\n",
       "      <td>0.6848</td>\n",
       "    </tr>\n",
       "    <tr>\n",
       "      <th>25436</th>\n",
       "      <td>5</td>\n",
       "      <td>7</td>\n",
       "      <td>8</td>\n",
       "      <td>42.2272</td>\n",
       "      <td>0</td>\n",
       "      <td>0</td>\n",
       "      <td>1.4642</td>\n",
       "    </tr>\n",
       "    <tr>\n",
       "      <th>25437</th>\n",
       "      <td>2</td>\n",
       "      <td>3</td>\n",
       "      <td>16</td>\n",
       "      <td>21.2711</td>\n",
       "      <td>0</td>\n",
       "      <td>0</td>\n",
       "      <td>0.7462</td>\n",
       "    </tr>\n",
       "    <tr>\n",
       "      <th>25438</th>\n",
       "      <td>2</td>\n",
       "      <td>1</td>\n",
       "      <td>3</td>\n",
       "      <td>93.5426</td>\n",
       "      <td>0</td>\n",
       "      <td>0</td>\n",
       "      <td>0.1321</td>\n",
       "    </tr>\n",
       "  </tbody>\n",
       "</table>\n",
       "<p>25439 rows × 7 columns</p>\n",
       "</div>"
      ],
      "text/plain": [
       "       Weather  Day Of Week  Hour Of Day    Speed  Is Peak Hour  \\\n",
       "0            1            4           23  65.3388             0   \n",
       "1            2            7           13  86.4000             1   \n",
       "2            2            6           12  26.7635             1   \n",
       "3            2            7           16  62.0059             0   \n",
       "4            3            6           14  23.1494             1   \n",
       "...        ...          ...          ...      ...           ...   \n",
       "25434        4            3            0  60.2543             0   \n",
       "25435        4            4           23  69.2789             0   \n",
       "25436        5            7            8  42.2272             0   \n",
       "25437        2            3           16  21.2711             0   \n",
       "25438        2            1            3  93.5426             0   \n",
       "\n",
       "       Random Event Occurred  Traffic Density  \n",
       "0                          0           0.2861  \n",
       "1                          0           1.0539  \n",
       "2                          0           0.7987  \n",
       "3                          0           0.9777  \n",
       "4                          1           0.5094  \n",
       "...                      ...              ...  \n",
       "25434                      0           0.4992  \n",
       "25435                      0           0.6848  \n",
       "25436                      0           1.4642  \n",
       "25437                      0           0.7462  \n",
       "25438                      0           0.1321  \n",
       "\n",
       "[25439 rows x 7 columns]"
      ]
     },
     "execution_count": 11,
     "metadata": {},
     "output_type": "execute_result"
    }
   ],
   "source": [
    "# Filtering by columns related to usage scenario.\n",
    "df_car =  df_car[[\"Weather\", \"Day Of Week\", \"Hour Of Day\", \"Speed\", \"Is Peak Hour\", \"Random Event Occurred\", \"Traffic Density\"]]\n",
    "df_car.reset_index(drop=True)"
   ]
  },
  {
   "cell_type": "code",
   "execution_count": 12,
   "metadata": {
    "colab": {
     "base_uri": "https://localhost:8080/"
    },
    "executionInfo": {
     "elapsed": 485,
     "status": "ok",
     "timestamp": 1710074677256,
     "user": {
      "displayName": "Danne Makleyston",
      "userId": "15569214669254479952"
     },
     "user_tz": 180
    },
    "id": "bR6__qNiG3hs",
    "outputId": "9fc02c07-1e59-40a2-a3bf-74a3fff3b24f"
   },
   "outputs": [
    {
     "data": {
      "text/plain": [
       "Weather                    int64\n",
       "Day Of Week                int64\n",
       "Hour Of Day                int64\n",
       "Speed                    float64\n",
       "Is Peak Hour               int64\n",
       "Random Event Occurred      int64\n",
       "Traffic Density          float64\n",
       "dtype: object"
      ]
     },
     "execution_count": 12,
     "metadata": {},
     "output_type": "execute_result"
    }
   ],
   "source": [
    "df_car.dtypes"
   ]
  },
  {
   "cell_type": "code",
   "execution_count": 13,
   "metadata": {
    "colab": {
     "base_uri": "https://localhost:8080/",
     "height": 700
    },
    "executionInfo": {
     "elapsed": 825,
     "status": "ok",
     "timestamp": 1710074687815,
     "user": {
      "displayName": "Danne Makleyston",
      "userId": "15569214669254479952"
     },
     "user_tz": 180
    },
    "id": "c6g7UEYrD0e7",
    "outputId": "f811c509-f32a-41fb-d0b3-0a47da6b9fe5"
   },
   "outputs": [
    {
     "data": {
      "image/png": "[encoded data removed]",
      "text/plain": [
       "<Figure size 576x432 with 2 Axes>"
      ]
     },
     "metadata": {
      "needs_background": "light"
     },
     "output_type": "display_data"
    }
   ],
   "source": [
    "# Verify correlation\n",
    "correlation_matrix = df_car.corr()\n",
    "plt.figure(figsize=(8, 6))\n",
    "sns.heatmap(correlation_matrix, annot=True, cmap='RdYlBu')\n",
    "plt.title('Correlation')\n",
    "plt.show()"
   ]
  },
  {
   "cell_type": "markdown",
   "metadata": {
    "id": "WjGyOKNoZRIS"
   },
   "source": [
    "Conclusion: We can see that there is a very weak relationship between the features."
   ]
  },
  {
   "cell_type": "markdown",
   "metadata": {
    "id": "vjQmdFAcZrvM"
   },
   "source": [
    "## So, let's implement a regression model based on decision trees. We'll use the RandomForestRegressor."
   ]
  },
  {
   "cell_type": "code",
   "execution_count": 14,
   "metadata": {
    "colab": {
     "base_uri": "https://localhost:8080/"
    },
    "executionInfo": {
     "elapsed": 320,
     "status": "ok",
     "timestamp": 1710074997006,
     "user": {
      "displayName": "Danne Makleyston",
      "userId": "15569214669254479952"
     },
     "user_tz": 180
    },
    "id": "_Fg4mRp5jT35",
    "outputId": "5e8fb864-7de5-4369-a9c9-e1906004a5b4"
   },
   "outputs": [
    {
     "data": {
      "text/plain": [
       "(2696, 7)"
      ]
     },
     "execution_count": 14,
     "metadata": {},
     "output_type": "execute_result"
    }
   ],
   "source": [
    "# Generating a sample with same quandity of Random Event Occurred.\n",
    "\n",
    "new_df_1 = df_car[df_car['Random Event Occurred'] == 1]\n",
    "new_df_0 = df_car[df_car['Random Event Occurred'] == 0].sample(n=1348, random_state=42)\n",
    "\n",
    "df_car_sample = pd.concat([new_df_1, new_df_0], axis=0)\n",
    "df_car_sample = df_car_sample.reset_index(drop=True)\n",
    "\n",
    "df_car_sample.shape"
   ]
  },
  {
   "cell_type": "markdown",
   "metadata": {
    "id": "O6NP_Fwxapg1"
   },
   "source": [
    "Creating a new column with Speed mean by Day Of Week and Hour Of Day"
   ]
  },
  {
   "cell_type": "code",
   "execution_count": 15,
   "metadata": {
    "executionInfo": {
     "elapsed": 405,
     "status": "ok",
     "timestamp": 1710075180247,
     "user": {
      "displayName": "Danne Makleyston",
      "userId": "15569214669254479952"
     },
     "user_tz": 180
    },
    "id": "LgoLhgMRE-VM"
   },
   "outputs": [],
   "source": [
    "df_gb = df_car_sample.groupby(['Day Of Week', 'Hour Of Day'])['Speed'].median().reset_index()\n",
    "\n",
    "df_gb = df_gb.rename(columns={'Speed': 'SpeedMean'})\n",
    "\n",
    "df_car_sample = pd.merge(df_car_sample, df_gb, on=['Day Of Week', 'Hour Of Day'], how='left')\n",
    "\n",
    "#df_car_sample"
   ]
  },
  {
   "cell_type": "markdown",
   "metadata": {
    "id": "YDJPmOY3bSDz"
   },
   "source": [
    "Creating the regression model."
   ]
  },
  {
   "cell_type": "code",
   "execution_count": 16,
   "metadata": {
    "colab": {
     "base_uri": "https://localhost:8080/"
    },
    "executionInfo": {
     "elapsed": 975,
     "status": "ok",
     "timestamp": 1710075340664,
     "user": {
      "displayName": "Danne Makleyston",
      "userId": "15569214669254479952"
     },
     "user_tz": 180
    },
    "id": "21A7XhlhDgkK",
    "outputId": "01eff13e-d0ed-4b12-ae50-bdf343ef9d24"
   },
   "outputs": [
    {
     "name": "stdout",
     "output_type": "stream",
     "text": [
      "Mean Squared Error: 3.020996399134751\n",
      "R2 Score: 0.9622548736603349\n"
     ]
    }
   ],
   "source": [
    "from sklearn.model_selection import train_test_split\n",
    "from sklearn.ensemble import RandomForestRegressor\n",
    "from sklearn.metrics import mean_squared_error, r2_score\n",
    "\n",
    "X = df_car_sample[['Weather', 'Day Of Week', 'Hour Of Day', 'Is Peak Hour', 'Random Event Occurred', 'Traffic Density']]\n",
    "y = df_car_sample['SpeedMean']\n",
    "\n",
    "X_train, X_test, y_train, y_test = train_test_split(X, y, test_size=0.2, random_state=42)\n",
    "\n",
    "model = RandomForestRegressor(random_state=42)\n",
    "model.fit(X_train, y_train)\n",
    "\n",
    "y_pred = model.predict(X_test)\n",
    "\n",
    "print(\"Mean Squared Error:\", mean_squared_error(y_test, y_pred))\n",
    "print(\"R2 Score:\", r2_score(y_test, y_pred))"
   ]
  },
  {
   "cell_type": "code",
   "execution_count": 17,
   "metadata": {
    "colab": {
     "base_uri": "https://localhost:8080/",
     "height": 599
    },
    "executionInfo": {
     "elapsed": 824,
     "status": "ok",
     "timestamp": 1710075597451,
     "user": {
      "displayName": "Danne Makleyston",
      "userId": "15569214669254479952"
     },
     "user_tz": 180
    },
    "id": "SUubWmJ_cQ6-",
    "outputId": "a812080f-9823-4144-c12b-1d8cc94f52b9"
   },
   "outputs": [
    {
     "data": {
      "image/png": "[encoded data removed]",
      "text/plain": [
       "<Figure size 720x432 with 1 Axes>"
      ]
     },
     "metadata": {
      "needs_background": "light"
     },
     "output_type": "display_data"
    }
   ],
   "source": [
    "import matplotlib.pyplot as plt\n",
    "\n",
    "plt.figure(figsize=(10, 6))\n",
    "plt.scatter(y_test, y_pred, color='blue', label='Predicts')\n",
    "plt.plot([y_test.min(), y_test.max()], [y_test.min(), y_test.max()], 'k--', lw=2, color='red', label='Reference line')\n",
    "plt.xlabel('Values')\n",
    "plt.ylabel('Predicts')\n",
    "plt.title('Values and Predicts')\n",
    "plt.legend()\n",
    "plt.show()"
   ]
  },
  {
   "cell_type": "markdown",
   "metadata": {
    "id": "dygxA490d-Zz"
   },
   "source": [
    "Exporting the model"
   ]
  },
  {
   "cell_type": "code",
   "execution_count": 18,
   "metadata": {
    "colab": {
     "base_uri": "https://localhost:8080/"
    },
    "executionInfo": {
     "elapsed": 455,
     "status": "ok",
     "timestamp": 1710076253667,
     "user": {
      "displayName": "Danne Makleyston",
      "userId": "15569214669254479952"
     },
     "user_tz": 180
    },
    "id": "c8Mtn1GcKcRU",
    "outputId": "0035a9bd-471b-423a-f1b0-2aa17e076b6b"
   },
   "outputs": [
    {
     "data": {
      "text/plain": [
       "['slow-traffic-forecast-model.joblib']"
      ]
     },
     "execution_count": 18,
     "metadata": {},
     "output_type": "execute_result"
    }
   ],
   "source": [
    "import joblib\n",
    "joblib.dump(model, 'slow-traffic-forecast-model.joblib')"
   ]
  },
  {
   "cell_type": "code",
   "execution_count": 19,
   "metadata": {
    "colab": {
     "base_uri": "https://localhost:8080/"
    },
    "executionInfo": {
     "elapsed": 314,
     "status": "ok",
     "timestamp": 1710076911247,
     "user": {
      "displayName": "Danne Makleyston",
      "userId": "15569214669254479952"
     },
     "user_tz": 180
    },
    "id": "hH93f4VDhtKI",
    "outputId": "587df311-8a27-4721-e086-fceda30f911b"
   },
   "outputs": [
    {
     "name": "stdout",
     "output_type": "stream",
     "text": [
      "1.2.0\n"
     ]
    }
   ],
   "source": [
    "print(joblib.__version__)"
   ]
  },
  {
   "cell_type": "code",
   "execution_count": 20,
   "metadata": {},
   "outputs": [
    {
     "name": "stdout",
     "output_type": "stream",
     "text": [
      "1.3.2\n"
     ]
    }
   ],
   "source": [
    "import sklearn\n",
    "print(sklearn.__version__)"
   ]
  }
 ],
 "metadata": {
  "colab": {
   "authorship_tag": "ABX9TyPtFraiN6U6xLlrB3Y29lkL",
   "mount_file_id": "1CffJB9JGIsAH8WaWRQPzJ1ruvljLLbJM",
   "provenance": []
  },
  "kernelspec": {
   "display_name": "Python 3",
   "language": "python",
   "name": "python3"
  },
  "language_info": {
   "codemirror_mode": {
    "name": "ipython",
    "version": 3
   },
   "file_extension": ".py",
   "mimetype": "text/x-python",
   "name": "python",
   "nbconvert_exporter": "python",
   "pygments_lexer": "ipython3",
   "version": "3.8.8"
  }
 },
 "nbformat": 4,
 "nbformat_minor": 1
}
