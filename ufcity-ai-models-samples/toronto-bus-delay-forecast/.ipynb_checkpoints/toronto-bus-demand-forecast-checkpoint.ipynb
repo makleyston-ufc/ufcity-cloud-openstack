{
 "cells": [
  {
   "cell_type": "markdown",
   "metadata": {
    "id": "7pW14p9fpWR9"
   },
   "source": [
    "# Smart City Mobility Demand Predictor"
   ]
  },
  {
   "cell_type": "markdown",
   "metadata": {
    "id": "gvLEdXGopfhA"
   },
   "source": [
    "This model uses the database [Urban Mobility Dataset](https://www.kaggle.com/datasets/arnavsmayan/urban-mobility-dataset/data).\n",
    "\n",
    "This service leverages Machine Learning to predict urban mobility demand and provide personalized notifications to citizens, enhancing the management and efficiency of city transportation systems. By analyzing data on public transport usage, traffic flow, weather conditions, and events, the service forecasts demand across various transportation modes, including public transit, bike-sharing, and pedestrian traffic. Users receive tailored alerts and recommendations, such as optimal travel times and routes, minimizing delays and congestion."
   ]
  },
  {
   "cell_type": "code",
   "execution_count": 1,
   "metadata": {
    "executionInfo": {
     "elapsed": 3345,
     "status": "ok",
     "timestamp": 1710074642599,
     "user": {
      "displayName": "Danne Makleyston",
      "userId": "15569214669254479952"
     },
     "user_tz": 180
    },
    "id": "-V2pnztFpZ_g"
   },
   "outputs": [],
   "source": [
    "import pandas as pd\n",
    "import matplotlib.pyplot as plt\n",
    "import seaborn as sns\n",
    "from sklearn.model_selection import train_test_split\n",
    "\n"
   ]
  },
  {
   "cell_type": "code",
   "execution_count": 2,
   "metadata": {
    "colab": {
     "base_uri": "https://localhost:8080/",
     "height": 206
    },
    "executionInfo": {
     "elapsed": 575,
     "status": "ok",
     "timestamp": 1710074649721,
     "user": {
      "displayName": "Danne Makleyston",
      "userId": "15569214669254479952"
     },
     "user_tz": 180
    },
    "id": "260vtkgGw0xu",
    "outputId": "711e0e98-228c-4172-be9d-e25a4c07bfe3"
   },
   "outputs": [],
   "source": [
    "df = pd.read_csv('../datasets/toronto-bus-delay-2022/ttc-bus-delay-data-2022.csv')"
   ]
  },
  {
   "cell_type": "code",
   "execution_count": 3,
   "metadata": {},
   "outputs": [
    {
     "data": {
      "text/plain": [
       "Index(['Date', 'Route', 'Time', 'Day', 'Location', 'Incident', 'Min Delay',\n",
       "       'Min Gap', 'Direction', 'Vehicle'],\n",
       "      dtype='object')"
      ]
     },
     "execution_count": 3,
     "metadata": {},
     "output_type": "execute_result"
    }
   ],
   "source": [
    "df.columns"
   ]
  },
  {
   "cell_type": "code",
   "execution_count": null,
   "metadata": {},
   "outputs": [],
   "source": []
  },
  {
   "cell_type": "code",
   "execution_count": null,
   "metadata": {},
   "outputs": [],
   "source": []
  },
  {
   "cell_type": "code",
   "execution_count": null,
   "metadata": {},
   "outputs": [],
   "source": []
  },
  {
   "cell_type": "code",
   "execution_count": null,
   "metadata": {},
   "outputs": [],
   "source": []
  },
  {
   "cell_type": "code",
   "execution_count": null,
   "metadata": {},
   "outputs": [],
   "source": []
  },
  {
   "cell_type": "code",
   "execution_count": null,
   "metadata": {},
   "outputs": [],
   "source": []
  }
 ],
 "metadata": {
  "colab": {
   "authorship_tag": "ABX9TyPtFraiN6U6xLlrB3Y29lkL",
   "mount_file_id": "1CffJB9JGIsAH8WaWRQPzJ1ruvljLLbJM",
   "provenance": []
  },
  "kernelspec": {
   "display_name": "Python 3",
   "language": "python",
   "name": "python3"
  },
  "language_info": {
   "codemirror_mode": {
    "name": "ipython",
    "version": 3
   },
   "file_extension": ".py",
   "mimetype": "text/x-python",
   "name": "python",
   "nbconvert_exporter": "python",
   "pygments_lexer": "ipython3",
   "version": "3.8.8"
  }
 },
 "nbformat": 4,
 "nbformat_minor": 1
}
